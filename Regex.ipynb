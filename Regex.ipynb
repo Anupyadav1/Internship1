{
 "cells": [
  {
   "cell_type": "markdown",
   "id": "006d71e5",
   "metadata": {},
   "source": [
    "# Regular Expression"
   ]
  },
  {
   "cell_type": "code",
   "execution_count": 1,
   "id": "8c45b0e9",
   "metadata": {},
   "outputs": [
    {
     "name": "stdout",
     "output_type": "stream",
     "text": [
      "enter a string: Hello Data Science\n",
      "string contains   at the give time 5\n"
     ]
    }
   ],
   "source": [
    "import regex as re\n",
    "string= input('enter a string: ')\n",
    "a=re.compile('[^0-9A-Za-z]+')\n",
    "l=a.search(string)\n",
    "print('string contains',l.group(),'at the give time', l.start())"
   ]
  },
  {
   "cell_type": "code",
   "execution_count": 2,
   "id": "b5a744c7",
   "metadata": {},
   "outputs": [
    {
     "name": "stdout",
     "output_type": "stream",
     "text": [
      "<re.Match object; span=(0, 3), match='abb'>\n"
     ]
    }
   ],
   "source": [
    "import re\n",
    "text=(\"abb\")\n",
    "pattern='^a(b*)$'\n",
    "x=re.search(pattern, text)\n",
    "print(x)"
   ]
  },
  {
   "cell_type": "code",
   "execution_count": 2,
   "id": "452405b2",
   "metadata": {},
   "outputs": [
    {
     "name": "stdout",
     "output_type": "stream",
     "text": [
      "enter a stringHello world\n",
      "None\n"
     ]
    }
   ],
   "source": [
    "import re\n",
    "txt=input('enter a string')\n",
    "u=re.compile('ab+?')\n",
    "y=u.search(txt)\n",
    "print(y)"
   ]
  },
  {
   "cell_type": "code",
   "execution_count": 4,
   "id": "e3725592",
   "metadata": {},
   "outputs": [
    {
     "name": "stdout",
     "output_type": "stream",
     "text": [
      "None\n"
     ]
    }
   ],
   "source": [
    "import re\n",
    "text1=('i bought new bbb car')\n",
    "p=re.compile(\"ab{3}?\")\n",
    "k=p.search(text1)\n",
    "print(k)"
   ]
  },
  {
   "cell_type": "code",
   "execution_count": 10,
   "id": "5492ec3c",
   "metadata": {},
   "outputs": [
    {
     "name": "stdout",
     "output_type": "stream",
     "text": [
      "['ImportanceOfRegularExpressionsInPython']\n"
     ]
    }
   ],
   "source": [
    "import re\n",
    "split=('ImportanceOfRegularExpressionsInPython')\n",
    "sp=re.split(r\"\\s(?=[A-Z])\",split)\n",
    "print(sp)"
   ]
  },
  {
   "cell_type": "code",
   "execution_count": 12,
   "id": "5dbd08a7",
   "metadata": {},
   "outputs": [
    {
     "name": "stdout",
     "output_type": "stream",
     "text": [
      "abb\n"
     ]
    }
   ],
   "source": [
    "import re\n",
    "txt=('ababbsasbba')\n",
    "pattern=re.search('ab{2,3}',txt)\n",
    "print(pattern.group())\n"
   ]
  },
  {
   "cell_type": "code",
   "execution_count": null,
   "id": "8ce8fa77",
   "metadata": {},
   "outputs": [],
   "source": []
  }
 ],
 "metadata": {
  "kernelspec": {
   "display_name": "Python 3 (ipykernel)",
   "language": "python",
   "name": "python3"
  },
  "language_info": {
   "codemirror_mode": {
    "name": "ipython",
    "version": 3
   },
   "file_extension": ".py",
   "mimetype": "text/x-python",
   "name": "python",
   "nbconvert_exporter": "python",
   "pygments_lexer": "ipython3",
   "version": "3.10.9"
  }
 },
 "nbformat": 4,
 "nbformat_minor": 5
}
