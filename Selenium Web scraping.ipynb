{
 "cells": [
  {
   "cell_type": "code",
   "execution_count": 1,
   "id": "917defe3",
   "metadata": {},
   "outputs": [
    {
     "name": "stdout",
     "output_type": "stream",
     "text": [
      "Requirement already satisfied: selenium in c:\\users\\anupam kalpnath\\anaconda3\\lib\\site-packages (4.10.0)\n",
      "Requirement already satisfied: trio~=0.17 in c:\\users\\anupam kalpnath\\anaconda3\\lib\\site-packages (from selenium) (0.22.2)\n",
      "Requirement already satisfied: certifi>=2021.10.8 in c:\\users\\anupam kalpnath\\anaconda3\\lib\\site-packages (from selenium) (2022.12.7)\n",
      "Requirement already satisfied: trio-websocket~=0.9 in c:\\users\\anupam kalpnath\\anaconda3\\lib\\site-packages (from selenium) (0.10.3)\n",
      "Requirement already satisfied: urllib3[socks]<3,>=1.26 in c:\\users\\anupam kalpnath\\anaconda3\\lib\\site-packages (from selenium) (1.26.14)\n",
      "Requirement already satisfied: outcome in c:\\users\\anupam kalpnath\\anaconda3\\lib\\site-packages (from trio~=0.17->selenium) (1.2.0)\n",
      "Requirement already satisfied: sniffio in c:\\users\\anupam kalpnath\\anaconda3\\lib\\site-packages (from trio~=0.17->selenium) (1.2.0)\n",
      "Requirement already satisfied: cffi>=1.14 in c:\\users\\anupam kalpnath\\anaconda3\\lib\\site-packages (from trio~=0.17->selenium) (1.15.1)\n",
      "Requirement already satisfied: sortedcontainers in c:\\users\\anupam kalpnath\\anaconda3\\lib\\site-packages (from trio~=0.17->selenium) (2.4.0)\n",
      "Requirement already satisfied: exceptiongroup>=1.0.0rc9 in c:\\users\\anupam kalpnath\\anaconda3\\lib\\site-packages (from trio~=0.17->selenium) (1.1.2)\n",
      "Requirement already satisfied: idna in c:\\users\\anupam kalpnath\\anaconda3\\lib\\site-packages (from trio~=0.17->selenium) (3.4)\n",
      "Requirement already satisfied: attrs>=20.1.0 in c:\\users\\anupam kalpnath\\anaconda3\\lib\\site-packages (from trio~=0.17->selenium) (22.1.0)\n",
      "Requirement already satisfied: wsproto>=0.14 in c:\\users\\anupam kalpnath\\anaconda3\\lib\\site-packages (from trio-websocket~=0.9->selenium) (1.2.0)\n",
      "Requirement already satisfied: PySocks!=1.5.7,<2.0,>=1.5.6 in c:\\users\\anupam kalpnath\\anaconda3\\lib\\site-packages (from urllib3[socks]<3,>=1.26->selenium) (1.7.1)\n",
      "Requirement already satisfied: pycparser in c:\\users\\anupam kalpnath\\anaconda3\\lib\\site-packages (from cffi>=1.14->trio~=0.17->selenium) (2.21)\n",
      "Requirement already satisfied: h11<1,>=0.9.0 in c:\\users\\anupam kalpnath\\anaconda3\\lib\\site-packages (from wsproto>=0.14->trio-websocket~=0.9->selenium) (0.14.0)\n"
     ]
    }
   ],
   "source": [
    "!pip install selenium"
   ]
  },
  {
   "cell_type": "code",
   "execution_count": 2,
   "id": "444c632d",
   "metadata": {},
   "outputs": [],
   "source": [
    "import selenium\n",
    "from selenium import webdriver\n",
    "import pandas as pd\n",
    "from selenium.webdriver.common.by import By\n",
    "import warnings\n",
    "warnings.filterwarnings(\"ignore\")\n",
    "import time"
   ]
  },
  {
   "cell_type": "code",
   "execution_count": 3,
   "id": "970fa34c",
   "metadata": {},
   "outputs": [],
   "source": [
    "driver=webdriver.Chrome()\n",
    "driver.get(\"https://www.naukri.com/\")"
   ]
  },
  {
   "cell_type": "code",
   "execution_count": 4,
   "id": "eefc3894",
   "metadata": {},
   "outputs": [],
   "source": [
    "designation=driver.find_element(By.CLASS_NAME,\"suggestor-input \")\n",
    "designation.send_keys('Data Analyst')"
   ]
  },
  {
   "cell_type": "code",
   "execution_count": 5,
   "id": "30299273",
   "metadata": {},
   "outputs": [],
   "source": [
    "location=driver.find_element(By.XPATH,\"/html/body/div[1]/div[7]/div/div/div[5]/div/div/div/div[1]/div/input\")\n",
    "location.send_keys('Bangalore')"
   ]
  },
  {
   "cell_type": "code",
   "execution_count": 6,
   "id": "fb421acc",
   "metadata": {},
   "outputs": [],
   "source": [
    "search=driver.find_element(By.CLASS_NAME,\"qsbSubmit\")\n",
    "search.click()"
   ]
  },
  {
   "cell_type": "code",
   "execution_count": 7,
   "id": "b6afb75c",
   "metadata": {},
   "outputs": [],
   "source": [
    "job_title=[]\n",
    "job_location=[]\n",
    "company_name=[]\n",
    "experience_required=[]"
   ]
  },
  {
   "cell_type": "code",
   "execution_count": 11,
   "id": "a683bf4b",
   "metadata": {},
   "outputs": [],
   "source": [
    "title_tags=driver.find_elements(By.XPATH,'//a[@class=\"title ellipsis\"]')\n",
    "for i in title_tags[0:10]:\n",
    "    title=i.text\n",
    "    job_title.append(title)\n",
    "    \n",
    "location_tags=driver.find_elements(By.XPATH,'//span[@class=\"ellipsis fleft locWdth\"]')\n",
    "for i in location_tags[0:10]:\n",
    "    location=i.text\n",
    "    job_location.append(location)\n",
    "    \n",
    "company_tags=driver.find_elements(By.XPATH,'//a[@class=\"subTitle ellipsis fleft\"]')\n",
    "for i in company_tags[0:10]:\n",
    "    company=i.text\n",
    "    company_name.append(company)\n",
    "    \n",
    "experience_tags=driver.find_elements(By.XPATH,'//span[@class=\"ellipsis fleft expwdth\"]')\n",
    "for i in experience_tags[0:10]:\n",
    "    experience=i.text\n",
    "    experience_required.append(experience)"
   ]
  },
  {
   "cell_type": "code",
   "execution_count": 12,
   "id": "8b7fc8a0",
   "metadata": {},
   "outputs": [
    {
     "name": "stdout",
     "output_type": "stream",
     "text": [
      "10 10 10 10\n"
     ]
    }
   ],
   "source": [
    "print(len(job_title),len(job_location),len(company_name),len(experience_required))"
   ]
  },
  {
   "cell_type": "code",
   "execution_count": 14,
   "id": "8f66b186",
   "metadata": {},
   "outputs": [
    {
     "data": {
      "text/html": [
       "<div>\n",
       "<style scoped>\n",
       "    .dataframe tbody tr th:only-of-type {\n",
       "        vertical-align: middle;\n",
       "    }\n",
       "\n",
       "    .dataframe tbody tr th {\n",
       "        vertical-align: top;\n",
       "    }\n",
       "\n",
       "    .dataframe thead th {\n",
       "        text-align: right;\n",
       "    }\n",
       "</style>\n",
       "<table border=\"1\" class=\"dataframe\">\n",
       "  <thead>\n",
       "    <tr style=\"text-align: right;\">\n",
       "      <th></th>\n",
       "      <th>Title</th>\n",
       "      <th>Location</th>\n",
       "      <th>Company Name</th>\n",
       "      <th>Experience</th>\n",
       "    </tr>\n",
       "  </thead>\n",
       "  <tbody>\n",
       "    <tr>\n",
       "      <th>0</th>\n",
       "      <td>Data Analyst</td>\n",
       "      <td>Bangalore/Bengaluru</td>\n",
       "      <td>Eastvantage</td>\n",
       "      <td>4-6 Yrs</td>\n",
       "    </tr>\n",
       "    <tr>\n",
       "      <th>1</th>\n",
       "      <td>Data Analyst</td>\n",
       "      <td>Bangalore/ Bengaluru, Karnataka, Gurgaon/ Guru...</td>\n",
       "      <td>Delhivery</td>\n",
       "      <td>1-3 Yrs</td>\n",
       "    </tr>\n",
       "    <tr>\n",
       "      <th>2</th>\n",
       "      <td>Data Analyst</td>\n",
       "      <td>Bangalore/Bengaluru</td>\n",
       "      <td>Everest Vacuum</td>\n",
       "      <td>2-5 Yrs</td>\n",
       "    </tr>\n",
       "    <tr>\n",
       "      <th>3</th>\n",
       "      <td>Data Analyst</td>\n",
       "      <td>Bangalore/Bengaluru, Hyderabad/Secunderabad, Pune</td>\n",
       "      <td>Synechron</td>\n",
       "      <td>5-8 Yrs</td>\n",
       "    </tr>\n",
       "    <tr>\n",
       "      <th>4</th>\n",
       "      <td>Data Analyst</td>\n",
       "      <td>Bangalore/Bengaluru</td>\n",
       "      <td>ANZ</td>\n",
       "      <td>1-5 Yrs</td>\n",
       "    </tr>\n",
       "    <tr>\n",
       "      <th>5</th>\n",
       "      <td>Data Analyst</td>\n",
       "      <td>Bangalore/Bengaluru</td>\n",
       "      <td>Persolkelly India</td>\n",
       "      <td>0-2 Yrs</td>\n",
       "    </tr>\n",
       "    <tr>\n",
       "      <th>6</th>\n",
       "      <td>Data Analyst</td>\n",
       "      <td>Bangalore/Bengaluru, Kolkata, Mumbai, New Delh...</td>\n",
       "      <td>Truthfools</td>\n",
       "      <td>3-8 Yrs</td>\n",
       "    </tr>\n",
       "    <tr>\n",
       "      <th>7</th>\n",
       "      <td>Data Analyst | HyVee</td>\n",
       "      <td>Bangalore/Bengaluru</td>\n",
       "      <td>Talent500</td>\n",
       "      <td>3-5 Yrs</td>\n",
       "    </tr>\n",
       "    <tr>\n",
       "      <th>8</th>\n",
       "      <td>Data Analyst with ANSR</td>\n",
       "      <td>Bangalore/ Bengaluru, Karnataka</td>\n",
       "      <td>ANSR</td>\n",
       "      <td>6-9 Yrs</td>\n",
       "    </tr>\n",
       "    <tr>\n",
       "      <th>9</th>\n",
       "      <td>Data Analyst</td>\n",
       "      <td>Bangalore/Bengaluru, Kochi/Cochin, Hyderabad/S...</td>\n",
       "      <td>L A Consultancy</td>\n",
       "      <td>3-7 Yrs</td>\n",
       "    </tr>\n",
       "  </tbody>\n",
       "</table>\n",
       "</div>"
      ],
      "text/plain": [
       "                    Title                                           Location  \\\n",
       "0            Data Analyst                                Bangalore/Bengaluru   \n",
       "1            Data Analyst  Bangalore/ Bengaluru, Karnataka, Gurgaon/ Guru...   \n",
       "2            Data Analyst                                Bangalore/Bengaluru   \n",
       "3            Data Analyst  Bangalore/Bengaluru, Hyderabad/Secunderabad, Pune   \n",
       "4            Data Analyst                                Bangalore/Bengaluru   \n",
       "5            Data Analyst                                Bangalore/Bengaluru   \n",
       "6            Data Analyst  Bangalore/Bengaluru, Kolkata, Mumbai, New Delh...   \n",
       "7    Data Analyst | HyVee                                Bangalore/Bengaluru   \n",
       "8  Data Analyst with ANSR                    Bangalore/ Bengaluru, Karnataka   \n",
       "9            Data Analyst  Bangalore/Bengaluru, Kochi/Cochin, Hyderabad/S...   \n",
       "\n",
       "        Company Name Experience  \n",
       "0        Eastvantage    4-6 Yrs  \n",
       "1          Delhivery    1-3 Yrs  \n",
       "2     Everest Vacuum    2-5 Yrs  \n",
       "3          Synechron    5-8 Yrs  \n",
       "4                ANZ    1-5 Yrs  \n",
       "5  Persolkelly India    0-2 Yrs  \n",
       "6         Truthfools    3-8 Yrs  \n",
       "7          Talent500    3-5 Yrs  \n",
       "8               ANSR    6-9 Yrs  \n",
       "9    L A Consultancy    3-7 Yrs  "
      ]
     },
     "execution_count": 14,
     "metadata": {},
     "output_type": "execute_result"
    }
   ],
   "source": [
    "import pandas as pd\n",
    "df=pd.DataFrame({'Title':job_title,'Location':job_location,'Company Name':company_name,'Experience':experience_required})\n",
    "df"
   ]
  },
  {
   "cell_type": "code",
   "execution_count": 16,
   "id": "f2549b87",
   "metadata": {},
   "outputs": [
    {
     "data": {
      "text/plain": [
       "[<selenium.webdriver.remote.webelement.WebElement (session=\"502714f22b6f22ee7ce1351f11fcf3a7\", element=\"0681607745E4D54B3178C01E545ACC50_element_88\")>,\n",
       " <selenium.webdriver.remote.webelement.WebElement (session=\"502714f22b6f22ee7ce1351f11fcf3a7\", element=\"0681607745E4D54B3178C01E545ACC50_element_89\")>,\n",
       " <selenium.webdriver.remote.webelement.WebElement (session=\"502714f22b6f22ee7ce1351f11fcf3a7\", element=\"0681607745E4D54B3178C01E545ACC50_element_90\")>,\n",
       " <selenium.webdriver.remote.webelement.WebElement (session=\"502714f22b6f22ee7ce1351f11fcf3a7\", element=\"0681607745E4D54B3178C01E545ACC50_element_91\")>]"
      ]
     },
     "execution_count": 16,
     "metadata": {},
     "output_type": "execute_result"
    }
   ],
   "source": [
    "url=driver.find_elements(By.XPATH,'//a[@class=\"title ellipsis\"]')\n",
    "url[0:4]"
   ]
  },
  {
   "cell_type": "code",
   "execution_count": 17,
   "id": "3250f7c2",
   "metadata": {},
   "outputs": [
    {
     "name": "stdout",
     "output_type": "stream",
     "text": [
      "https://www.naukri.com/job-listings-data-analyst-eastvantage-bangalore-bengaluru-4-to-6-years-200723006220\n",
      "https://www.naukri.com/job-listings-data-analyst-delhivery-limited-gurgaon-gurugram-haryana-bangalore-bengaluru-karnataka-1-to-3-years-180723003988\n",
      "https://www.naukri.com/job-listings-data-analyst-everest-vacuum-bangalore-bengaluru-2-to-5-years-150723500323\n",
      "https://www.naukri.com/job-listings-data-analyst-synechron-hyderabad-secunderabad-pune-bangalore-bengaluru-5-to-8-years-210723501040\n"
     ]
    }
   ],
   "source": [
    "for i in url[0:4]:\n",
    "    print(i.get_attribute('href'))"
   ]
  },
  {
   "cell_type": "code",
   "execution_count": null,
   "id": "555edf36",
   "metadata": {},
   "outputs": [],
   "source": [
    "job_title=[]"
   ]
  },
  {
   "cell_type": "code",
   "execution_count": 18,
   "id": "25a1813c",
   "metadata": {},
   "outputs": [],
   "source": [
    "start=0\n",
    "end=2\n",
    "for page in range(start,end):\n",
    "    titles=driver.find_elements(By.XPATH,'//a[@class=\"title ellipsis\"]')\n",
    "    for i in titles:\n",
    "        job_title.append(i.text)\n",
    "    next_button=driver.find_element(By.XPATH,'//a[@class=\"fright fs14 btn-secondary br2\"]')\n",
    "    next_button.click()\n",
    "    time.sleep(3)\n",
    "        "
   ]
  },
  {
   "cell_type": "markdown",
   "id": "08b4b549",
   "metadata": {},
   "source": [
    "Q.2"
   ]
  },
  {
   "cell_type": "code",
   "execution_count": 102,
   "id": "8a313fe2",
   "metadata": {},
   "outputs": [],
   "source": [
    "import selenium\n",
    "import pandas as pd\n",
    "from selenium import webdriver\n",
    "from selenium.webdriver.common.by import By\n",
    "import warnings\n",
    "warnings.filterwarnings('ignore')\n",
    "import time"
   ]
  },
  {
   "cell_type": "code",
   "execution_count": 103,
   "id": "32a8c4ec",
   "metadata": {},
   "outputs": [],
   "source": [
    "driver1=webdriver.Chrome()\n",
    "driver1.get(\"https://www.naukri.com/\")"
   ]
  },
  {
   "cell_type": "code",
   "execution_count": 104,
   "id": "23b787a1",
   "metadata": {},
   "outputs": [],
   "source": [
    "designation=driver1.find_element(By.CLASS_NAME,\"suggestor-input \")\n",
    "designation.send_keys('Data Scientist')"
   ]
  },
  {
   "cell_type": "code",
   "execution_count": 105,
   "id": "876a5730",
   "metadata": {},
   "outputs": [],
   "source": [
    "location=driver1.find_element(By.XPATH,\"/html/body/div[1]/div[7]/div/div/div[5]/div/div/div/div[1]/div/input\")\n",
    "location.send_keys(\"Bangalore\")"
   ]
  },
  {
   "cell_type": "code",
   "execution_count": 106,
   "id": "bd969de0",
   "metadata": {},
   "outputs": [],
   "source": [
    "search=driver1.find_element(By.CLASS_NAME,\"qsbSubmit\")\n",
    "search.click()"
   ]
  },
  {
   "cell_type": "code",
   "execution_count": 107,
   "id": "2c1da25a",
   "metadata": {},
   "outputs": [],
   "source": [
    "job_title=[]\n",
    "job_location=[]\n",
    "company_name=[]\n"
   ]
  },
  {
   "cell_type": "code",
   "execution_count": 114,
   "id": "526a5c67",
   "metadata": {},
   "outputs": [],
   "source": [
    "title_tags=driver1.find_elements(By.XPATH,'//a[@class=\"title ellipsis\"]')\n",
    "for i in title_tags[0:10]:\n",
    "    title=i.text\n",
    "    job_title.append(title)\n",
    "\n",
    "location_tags=driver1.find_elements(By.XPATH,'//span[@class=\"ellipsis fleft locWdth\"]')\n",
    "for i in location_tags[0:10]:\n",
    "    location=i.text\n",
    "    job_location.append(location)\n",
    "    \n",
    "company_tags=driver1.find_elements(By.XPATH,'//a[@class=\"subTitle ellipsis fleft\"]')\n",
    "for i in company_tags[0:10]:\n",
    "    company=i.text\n",
    "    company_name.append(company)"
   ]
  },
  {
   "cell_type": "code",
   "execution_count": 115,
   "id": "c9d41b0e",
   "metadata": {},
   "outputs": [
    {
     "name": "stdout",
     "output_type": "stream",
     "text": [
      "10 10 10\n"
     ]
    }
   ],
   "source": [
    "print(len(job_title),len(job_location),len(company_name))"
   ]
  },
  {
   "cell_type": "code",
   "execution_count": 116,
   "id": "481c9090",
   "metadata": {},
   "outputs": [
    {
     "data": {
      "text/html": [
       "<div>\n",
       "<style scoped>\n",
       "    .dataframe tbody tr th:only-of-type {\n",
       "        vertical-align: middle;\n",
       "    }\n",
       "\n",
       "    .dataframe tbody tr th {\n",
       "        vertical-align: top;\n",
       "    }\n",
       "\n",
       "    .dataframe thead th {\n",
       "        text-align: right;\n",
       "    }\n",
       "</style>\n",
       "<table border=\"1\" class=\"dataframe\">\n",
       "  <thead>\n",
       "    <tr style=\"text-align: right;\">\n",
       "      <th></th>\n",
       "      <th>Title</th>\n",
       "      <th>Location</th>\n",
       "      <th>Company Name</th>\n",
       "    </tr>\n",
       "  </thead>\n",
       "  <tbody>\n",
       "    <tr>\n",
       "      <th>0</th>\n",
       "      <td>Data Science Specialist</td>\n",
       "      <td>Bangalore/Bengaluru, Kolkata, Mumbai, Hyderaba...</td>\n",
       "      <td>Accenture</td>\n",
       "    </tr>\n",
       "    <tr>\n",
       "      <th>1</th>\n",
       "      <td>Data Scientist</td>\n",
       "      <td>Bangalore/Bengaluru, Mumbai (All Areas)</td>\n",
       "      <td>PwC</td>\n",
       "    </tr>\n",
       "    <tr>\n",
       "      <th>2</th>\n",
       "      <td>Analystics &amp; Modeling Specialist</td>\n",
       "      <td>Bangalore/Bengaluru, Kolkata, Mumbai, Hyderaba...</td>\n",
       "      <td>Accenture</td>\n",
       "    </tr>\n",
       "    <tr>\n",
       "      <th>3</th>\n",
       "      <td>DATA SCIENTIST</td>\n",
       "      <td>Bangalore/Bengaluru</td>\n",
       "      <td>Walmart</td>\n",
       "    </tr>\n",
       "    <tr>\n",
       "      <th>4</th>\n",
       "      <td>Data Scientist</td>\n",
       "      <td>Hybrid - Bangalore/ Bengaluru, Karnataka, Noid...</td>\n",
       "      <td>HCLTech</td>\n",
       "    </tr>\n",
       "    <tr>\n",
       "      <th>5</th>\n",
       "      <td>ACN - Applied Intelligence - Finance - Data Sc...</td>\n",
       "      <td>Bangalore/Bengaluru, Hyderabad/Secunderabad, P...</td>\n",
       "      <td>Accenture</td>\n",
       "    </tr>\n",
       "    <tr>\n",
       "      <th>6</th>\n",
       "      <td>Senior Data Scientist</td>\n",
       "      <td>Bangalore/Bengaluru, Mumbai</td>\n",
       "      <td>Fractal Analytics</td>\n",
       "    </tr>\n",
       "    <tr>\n",
       "      <th>7</th>\n",
       "      <td>Sr . Data Scientist / Manager</td>\n",
       "      <td>Bangalore/Bengaluru, Noida, Gurgaon/Gurugram</td>\n",
       "      <td>Novitas Infotech</td>\n",
       "    </tr>\n",
       "    <tr>\n",
       "      <th>8</th>\n",
       "      <td>Data Scientist</td>\n",
       "      <td>Bangalore/Bengaluru, Noida, Gurgaon/Gurugram</td>\n",
       "      <td>Novitas Infotech</td>\n",
       "    </tr>\n",
       "    <tr>\n",
       "      <th>9</th>\n",
       "      <td>Lead Data Scientist</td>\n",
       "      <td>Bangalore/Bengaluru</td>\n",
       "      <td>Siemens</td>\n",
       "    </tr>\n",
       "  </tbody>\n",
       "</table>\n",
       "</div>"
      ],
      "text/plain": [
       "                                               Title  \\\n",
       "0                            Data Science Specialist   \n",
       "1                                     Data Scientist   \n",
       "2                   Analystics & Modeling Specialist   \n",
       "3                                     DATA SCIENTIST   \n",
       "4                                     Data Scientist   \n",
       "5  ACN - Applied Intelligence - Finance - Data Sc...   \n",
       "6                              Senior Data Scientist   \n",
       "7                      Sr . Data Scientist / Manager   \n",
       "8                                     Data Scientist   \n",
       "9                                Lead Data Scientist   \n",
       "\n",
       "                                            Location       Company Name  \n",
       "0  Bangalore/Bengaluru, Kolkata, Mumbai, Hyderaba...          Accenture  \n",
       "1            Bangalore/Bengaluru, Mumbai (All Areas)                PwC  \n",
       "2  Bangalore/Bengaluru, Kolkata, Mumbai, Hyderaba...          Accenture  \n",
       "3                                Bangalore/Bengaluru            Walmart  \n",
       "4  Hybrid - Bangalore/ Bengaluru, Karnataka, Noid...            HCLTech  \n",
       "5  Bangalore/Bengaluru, Hyderabad/Secunderabad, P...          Accenture  \n",
       "6                        Bangalore/Bengaluru, Mumbai  Fractal Analytics  \n",
       "7       Bangalore/Bengaluru, Noida, Gurgaon/Gurugram   Novitas Infotech  \n",
       "8       Bangalore/Bengaluru, Noida, Gurgaon/Gurugram   Novitas Infotech  \n",
       "9                                Bangalore/Bengaluru            Siemens  "
      ]
     },
     "execution_count": 116,
     "metadata": {},
     "output_type": "execute_result"
    }
   ],
   "source": [
    "import pandas as pd\n",
    "df=pd.DataFrame({'Title':job_title,'Location':job_location,'Company Name':company_name})\n",
    "df"
   ]
  },
  {
   "cell_type": "code",
   "execution_count": 111,
   "id": "618b3313",
   "metadata": {},
   "outputs": [
    {
     "data": {
      "text/plain": [
       "[<selenium.webdriver.remote.webelement.WebElement (session=\"b7c9274dd3d266972b7bf9a614f566b8\", element=\"20066D5C8C16FA0DF18561B1B201E41D_element_110\")>,\n",
       " <selenium.webdriver.remote.webelement.WebElement (session=\"b7c9274dd3d266972b7bf9a614f566b8\", element=\"20066D5C8C16FA0DF18561B1B201E41D_element_111\")>,\n",
       " <selenium.webdriver.remote.webelement.WebElement (session=\"b7c9274dd3d266972b7bf9a614f566b8\", element=\"20066D5C8C16FA0DF18561B1B201E41D_element_112\")>,\n",
       " <selenium.webdriver.remote.webelement.WebElement (session=\"b7c9274dd3d266972b7bf9a614f566b8\", element=\"20066D5C8C16FA0DF18561B1B201E41D_element_113\")>]"
      ]
     },
     "execution_count": 111,
     "metadata": {},
     "output_type": "execute_result"
    }
   ],
   "source": [
    "url=driver1.find_elements(By.XPATH,'//a[@class=\"title ellipsis\"]')\n",
    "url[0:4]"
   ]
  },
  {
   "cell_type": "code",
   "execution_count": 112,
   "id": "177e77b2",
   "metadata": {},
   "outputs": [
    {
     "name": "stdout",
     "output_type": "stream",
     "text": [
      "https://www.naukri.com/job-listings-data-science-specialist-accenture-kolkata-mumbai-hyderabad-secunderabad-pune-chennai-bangalore-bengaluru-2-to-4-years-130223902578\n",
      "https://www.naukri.com/job-listings-data-scientist-pwc-bangalore-bengaluru-mumbai-all-areas-3-to-6-years-210723000027\n",
      "https://www.naukri.com/job-listings-analystics-modeling-specialist-accenture-kolkata-mumbai-hyderabad-secunderabad-pune-chennai-bangalore-bengaluru-6-to-8-years-130223902315\n",
      "https://www.naukri.com/job-listings-data-scientist-walmart-labs-bangalore-bengaluru-4-to-8-years-210723500978\n"
     ]
    }
   ],
   "source": [
    "for i in url[0:4]:\n",
    "    print(i.get_attribute('href'))"
   ]
  },
  {
   "cell_type": "markdown",
   "id": "3389c092",
   "metadata": {},
   "source": [
    "Q.3"
   ]
  },
  {
   "cell_type": "code",
   "execution_count": 167,
   "id": "a95d50f3",
   "metadata": {},
   "outputs": [],
   "source": [
    "import selenium\n",
    "from selenium import webdriver\n",
    "import pandas as pd\n",
    "from selenium.webdriver.common.by import By\n",
    "import warnings\n",
    "warnings.filterwarnings('ignore')\n",
    "import time"
   ]
  },
  {
   "cell_type": "code",
   "execution_count": 174,
   "id": "09b5acb4",
   "metadata": {},
   "outputs": [],
   "source": [
    "driver2=webdriver.Chrome()\n",
    "driver2.get(' https://www.naukri.com/')"
   ]
  },
  {
   "cell_type": "code",
   "execution_count": 175,
   "id": "38e7df38",
   "metadata": {},
   "outputs": [],
   "source": [
    "designation=driver2.find_element(By.CLASS_NAME,'suggestor-input')\n",
    "designation.send_keys('Data Scientist')"
   ]
  },
  {
   "cell_type": "code",
   "execution_count": 176,
   "id": "89c7215d",
   "metadata": {},
   "outputs": [],
   "source": [
    "search=driver2.find_element(By.CLASS_NAME,'qsbSubmit')\n",
    "search.click()"
   ]
  },
  {
   "cell_type": "code",
   "execution_count": 173,
   "id": "9dc314a2",
   "metadata": {},
   "outputs": [],
   "source": [
    "job_title=[]\n",
    "job_location=[]\n",
    "company_name=[]\n",
    "experience_required=[]"
   ]
  },
  {
   "cell_type": "code",
   "execution_count": 177,
   "id": "a43c19e0",
   "metadata": {},
   "outputs": [],
   "source": [
    "title_tags1=driver2.find_elements(By.XPATH,'//a[@class=\"title ellipsis\"]')\n",
    "for i in title_tags1[0:10]:\n",
    "    title=i.text\n",
    "    job_title.append(title)\n",
    "    \n",
    "location_tags1=driver2.find_elements(By.XPATH,'//span[@class=\"ellipsis fleft locWdth\"]')\n",
    "for i in location_tags1[0:10]:\n",
    "    location=i.text\n",
    "    job_location.append(location)\n",
    "    \n",
    "company_tag=driver2.find_elements(By.XPATH,'//a[@class=\"subTitle ellipsis fleft\"]')\n",
    "for i in company_tag[0:10]:\n",
    "    company=i.text\n",
    "    company_name.append(company)\n",
    "    \n",
    "expe_tags=driver2.find_elements(By.XPATH,'//span[@class=\"ellipsis fleft expwdth\"]')\n",
    "for i in expe_tags[0:10]:\n",
    "    exp=i.text\n",
    "    experience_required.append(exp)"
   ]
  },
  {
   "cell_type": "code",
   "execution_count": 178,
   "id": "b6f87b69",
   "metadata": {},
   "outputs": [
    {
     "ename": "AttributeError",
     "evalue": "'list' object has no attribute 'click'",
     "output_type": "error",
     "traceback": [
      "\u001b[1;31m---------------------------------------------------------------------------\u001b[0m",
      "\u001b[1;31mAttributeError\u001b[0m                            Traceback (most recent call last)",
      "Cell \u001b[1;32mIn[178], line 2\u001b[0m\n\u001b[0;32m      1\u001b[0m location\u001b[38;5;241m=\u001b[39mdriver2\u001b[38;5;241m.\u001b[39mfind_elements(By\u001b[38;5;241m.\u001b[39mXPATH,\u001b[38;5;124m'\u001b[39m\u001b[38;5;124m//span[@class=\u001b[39m\u001b[38;5;124m\"\u001b[39m\u001b[38;5;124mellipsis fleft filterLabel\u001b[39m\u001b[38;5;124m\"\u001b[39m\u001b[38;5;124m]\u001b[39m\u001b[38;5;124m'\u001b[39m)\n\u001b[1;32m----> 2\u001b[0m \u001b[43mlocation\u001b[49m\u001b[38;5;241;43m.\u001b[39;49m\u001b[43mclick\u001b[49m()\n\u001b[0;32m      3\u001b[0m location\u001b[38;5;241m.\u001b[39msend_keys(\u001b[38;5;124m'\u001b[39m\u001b[38;5;124mDelhi/NCR\u001b[39m\u001b[38;5;124m'\u001b[39m)\n",
      "\u001b[1;31mAttributeError\u001b[0m: 'list' object has no attribute 'click'"
     ]
    }
   ],
   "source": [
    "location=driver2.find_elements(By.XPATH,'//span[@class=\"ellipsis fleft filterLabel\"]')\n",
    "location.click()\n",
    "location.send_keys('Delhi/NCR')"
   ]
  },
  {
   "cell_type": "code",
   "execution_count": 172,
   "id": "011fa8f0",
   "metadata": {},
   "outputs": [
    {
     "ename": "AttributeError",
     "evalue": "'list' object has no attribute 'click'",
     "output_type": "error",
     "traceback": [
      "\u001b[1;31m---------------------------------------------------------------------------\u001b[0m",
      "\u001b[1;31mAttributeError\u001b[0m                            Traceback (most recent call last)",
      "Cell \u001b[1;32mIn[172], line 2\u001b[0m\n\u001b[0;32m      1\u001b[0m salary\u001b[38;5;241m=\u001b[39mdriver2\u001b[38;5;241m.\u001b[39mfind_elements(By\u001b[38;5;241m.\u001b[39mXPATH,\u001b[38;5;124m'\u001b[39m\u001b[38;5;124m//span[@class=\u001b[39m\u001b[38;5;124m\"\u001b[39m\u001b[38;5;124mellipsis fleft filterLabel\u001b[39m\u001b[38;5;124m\"\u001b[39m\u001b[38;5;124m]\u001b[39m\u001b[38;5;124m'\u001b[39m)\n\u001b[1;32m----> 2\u001b[0m \u001b[43msalary\u001b[49m\u001b[38;5;241;43m.\u001b[39;49m\u001b[43mclick\u001b[49m(\u001b[38;5;124m'\u001b[39m\u001b[38;5;124m3-6 Lakhs\u001b[39m\u001b[38;5;124m'\u001b[39m)\n",
      "\u001b[1;31mAttributeError\u001b[0m: 'list' object has no attribute 'click'"
     ]
    }
   ],
   "source": [
    "salary=driver2.find_elements(By.XPATH,'//span[@class=\"ellipsis fleft filterLabel\"]')\n",
    "salary.click('3-6 Lakhs')"
   ]
  },
  {
   "cell_type": "code",
   "execution_count": 179,
   "id": "8d3596a0",
   "metadata": {},
   "outputs": [
    {
     "name": "stdout",
     "output_type": "stream",
     "text": [
      "10 10 10 10\n"
     ]
    }
   ],
   "source": [
    "print(len(job_title),len(job_location),len(company_name),len(experience_required))"
   ]
  },
  {
   "cell_type": "code",
   "execution_count": 180,
   "id": "79928f5b",
   "metadata": {},
   "outputs": [
    {
     "data": {
      "text/html": [
       "<div>\n",
       "<style scoped>\n",
       "    .dataframe tbody tr th:only-of-type {\n",
       "        vertical-align: middle;\n",
       "    }\n",
       "\n",
       "    .dataframe tbody tr th {\n",
       "        vertical-align: top;\n",
       "    }\n",
       "\n",
       "    .dataframe thead th {\n",
       "        text-align: right;\n",
       "    }\n",
       "</style>\n",
       "<table border=\"1\" class=\"dataframe\">\n",
       "  <thead>\n",
       "    <tr style=\"text-align: right;\">\n",
       "      <th></th>\n",
       "      <th>Title</th>\n",
       "      <th>Location</th>\n",
       "      <th>Company Name</th>\n",
       "      <th>Experience</th>\n",
       "    </tr>\n",
       "  </thead>\n",
       "  <tbody>\n",
       "    <tr>\n",
       "      <th>0</th>\n",
       "      <td>Data Scientist</td>\n",
       "      <td>Hybrid - Noida, Uttar Pradesh, Bangalore/ Beng...</td>\n",
       "      <td>HCLTech</td>\n",
       "      <td>7-12 Yrs</td>\n",
       "    </tr>\n",
       "    <tr>\n",
       "      <th>1</th>\n",
       "      <td>ACN - Applied Intelligence - Finance - Data Sc...</td>\n",
       "      <td>Hyderabad/Secunderabad, Pune, Chennai, Gurgaon...</td>\n",
       "      <td>Accenture</td>\n",
       "      <td>2-7 Yrs</td>\n",
       "    </tr>\n",
       "    <tr>\n",
       "      <th>2</th>\n",
       "      <td>Sr . Data Scientist / Manager</td>\n",
       "      <td>Noida, Gurgaon/Gurugram, Bangalore/Bengaluru</td>\n",
       "      <td>Novitas Infotech</td>\n",
       "      <td>7-10 Yrs</td>\n",
       "    </tr>\n",
       "    <tr>\n",
       "      <th>3</th>\n",
       "      <td>Data Scientist</td>\n",
       "      <td>Noida, Gurgaon/Gurugram, Bangalore/Bengaluru</td>\n",
       "      <td>Novitas Infotech</td>\n",
       "      <td>3-7 Yrs</td>\n",
       "    </tr>\n",
       "    <tr>\n",
       "      <th>4</th>\n",
       "      <td>Director/Senior Director - Data Science</td>\n",
       "      <td>Noida, Hyderabad/Secunderabad, Pune, Gurgaon/G...</td>\n",
       "      <td>Axtria India</td>\n",
       "      <td>10-15 Yrs</td>\n",
       "    </tr>\n",
       "    <tr>\n",
       "      <th>5</th>\n",
       "      <td>Manager/Senior Manager - Data Science</td>\n",
       "      <td>Noida, Hyderabad/Secunderabad, Pune, Gurgaon/G...</td>\n",
       "      <td>Axtria India</td>\n",
       "      <td>8-12 Yrs</td>\n",
       "    </tr>\n",
       "    <tr>\n",
       "      <th>6</th>\n",
       "      <td>Data Scientist</td>\n",
       "      <td>Noida, New Delhi, Bangalore/Bengaluru</td>\n",
       "      <td>Rockwell Automation</td>\n",
       "      <td>3-7 Yrs</td>\n",
       "    </tr>\n",
       "    <tr>\n",
       "      <th>7</th>\n",
       "      <td>Data Scientist</td>\n",
       "      <td>Gurgaon/Gurugram, Bangalore/Bengaluru</td>\n",
       "      <td>Blackbuck</td>\n",
       "      <td>3-7 Yrs</td>\n",
       "    </tr>\n",
       "    <tr>\n",
       "      <th>8</th>\n",
       "      <td>Data Science - Technical Lead</td>\n",
       "      <td>Noida, Bangalore/Bengaluru</td>\n",
       "      <td>Paytm</td>\n",
       "      <td>6-8 Yrs</td>\n",
       "    </tr>\n",
       "    <tr>\n",
       "      <th>9</th>\n",
       "      <td>Data Science - Senior Software Engineer</td>\n",
       "      <td>Noida, Bangalore/Bengaluru</td>\n",
       "      <td>Paytm</td>\n",
       "      <td>3-6 Yrs</td>\n",
       "    </tr>\n",
       "  </tbody>\n",
       "</table>\n",
       "</div>"
      ],
      "text/plain": [
       "                                               Title  \\\n",
       "0                                     Data Scientist   \n",
       "1  ACN - Applied Intelligence - Finance - Data Sc...   \n",
       "2                      Sr . Data Scientist / Manager   \n",
       "3                                     Data Scientist   \n",
       "4            Director/Senior Director - Data Science   \n",
       "5              Manager/Senior Manager - Data Science   \n",
       "6                                     Data Scientist   \n",
       "7                                     Data Scientist   \n",
       "8                      Data Science - Technical Lead   \n",
       "9            Data Science - Senior Software Engineer   \n",
       "\n",
       "                                            Location         Company Name  \\\n",
       "0  Hybrid - Noida, Uttar Pradesh, Bangalore/ Beng...              HCLTech   \n",
       "1  Hyderabad/Secunderabad, Pune, Chennai, Gurgaon...            Accenture   \n",
       "2       Noida, Gurgaon/Gurugram, Bangalore/Bengaluru     Novitas Infotech   \n",
       "3       Noida, Gurgaon/Gurugram, Bangalore/Bengaluru     Novitas Infotech   \n",
       "4  Noida, Hyderabad/Secunderabad, Pune, Gurgaon/G...         Axtria India   \n",
       "5  Noida, Hyderabad/Secunderabad, Pune, Gurgaon/G...         Axtria India   \n",
       "6              Noida, New Delhi, Bangalore/Bengaluru  Rockwell Automation   \n",
       "7              Gurgaon/Gurugram, Bangalore/Bengaluru            Blackbuck   \n",
       "8                         Noida, Bangalore/Bengaluru                Paytm   \n",
       "9                         Noida, Bangalore/Bengaluru                Paytm   \n",
       "\n",
       "  Experience  \n",
       "0   7-12 Yrs  \n",
       "1    2-7 Yrs  \n",
       "2   7-10 Yrs  \n",
       "3    3-7 Yrs  \n",
       "4  10-15 Yrs  \n",
       "5   8-12 Yrs  \n",
       "6    3-7 Yrs  \n",
       "7    3-7 Yrs  \n",
       "8    6-8 Yrs  \n",
       "9    3-6 Yrs  "
      ]
     },
     "execution_count": 180,
     "metadata": {},
     "output_type": "execute_result"
    }
   ],
   "source": [
    "df=pd.DataFrame({'Title':job_title,'Location':job_location,'Company Name':company_name,'Experience':experience_required})\n",
    "df"
   ]
  },
  {
   "cell_type": "markdown",
   "id": "6416e45d",
   "metadata": {},
   "source": [
    "Q.4"
   ]
  },
  {
   "cell_type": "code",
   "execution_count": 273,
   "id": "ddc63d8f",
   "metadata": {},
   "outputs": [],
   "source": [
    "import selenium\n",
    "import pandas as pd\n",
    "from selenium import webdriver\n",
    "from selenium.webdriver.common.by import By\n",
    "import warnings\n",
    "warnings.filterwarnings('ignore')\n",
    "import time"
   ]
  },
  {
   "cell_type": "code",
   "execution_count": 274,
   "id": "02cc7fd4",
   "metadata": {},
   "outputs": [],
   "source": [
    "driver3=webdriver.Chrome()\n",
    "driver3.get('https://www.flipkart.com/')"
   ]
  },
  {
   "cell_type": "code",
   "execution_count": 275,
   "id": "1288099d",
   "metadata": {},
   "outputs": [],
   "source": [
    "product=driver3.find_element(By.CLASS_NAME,'_3704LK')\n",
    "product.send_keys('Sunglasses')"
   ]
  },
  {
   "cell_type": "code",
   "execution_count": 276,
   "id": "9bc3f066",
   "metadata": {},
   "outputs": [],
   "source": [
    "search=driver3.find_element(By.CLASS_NAME,'L0Z3Pu')\n",
    "search.click()"
   ]
  },
  {
   "cell_type": "code",
   "execution_count": 277,
   "id": "7a7a1db5",
   "metadata": {},
   "outputs": [],
   "source": [
    "brand_name=[]\n",
    "product_description=[]\n",
    "price=[]\n",
    "discount=[]"
   ]
  },
  {
   "cell_type": "code",
   "execution_count": 278,
   "id": "48c0da5e",
   "metadata": {},
   "outputs": [],
   "source": [
    "brand_tag=driver3.find_elements(By.XPATH,'//a[@class=\"IRpwTa\"]')\n",
    "for i in brand_tag[0:100]:\n",
    "    brand=i.text\n",
    "    brand_name.append(brand)\n",
    "    \n",
    "product_tag=driver3.find_elements(By.XPATH,'//div[@class=\"_2WkVRV\"]')\n",
    "for i in product_tag[0:100]:\n",
    "    product=i.text\n",
    "    product_description.append(product)\n",
    "\n",
    "price_tag=driver3.find_elements(By.XPATH,'//div[@class=\"_30jeq3\"]')\n",
    "for i in price_tag[0:100]:\n",
    "    price1=i.text\n",
    "    price.append(price1)\n",
    "    \n",
    "discount_tag=driver3.find_elements(By.XPATH,'//div[@class=\"_3Ay6Sb\"]')\n",
    "for i in discount_tag[0:100]:\n",
    "    discount1=i.text\n",
    "    discount.append(discount1)\n",
    "    \n"
   ]
  },
  {
   "cell_type": "code",
   "execution_count": 279,
   "id": "601f9034",
   "metadata": {},
   "outputs": [],
   "source": [
    "start=0\n",
    "end=3\n",
    "for page in range(start,end):\n",
    "    brand_tag=driver3.find_elements(By.XPATH,'//a[@class=\"IRpwTa\"]')\n",
    "    for i in brand_tag[0:100]:\n",
    "        brand=i.text\n",
    "        brand_name.append(brand)\n",
    "    \n",
    "    product_tag=driver3.find_elements(By.XPATH,'//div[@class=\"_2WkVRV\"]')\n",
    "    for i in product_tag[0:100]:\n",
    "        product=i.text\n",
    "        product_description.append(product)\n",
    "\n",
    "    price_tag=driver3.find_elements(By.XPATH,'//div[@class=\"_30jeq3\"]')\n",
    "    for i in price_tag[0:100]:\n",
    "        price1=i.text\n",
    "        price.append(price1)\n",
    "    \n",
    "    discount_tag=driver3.find_elements(By.XPATH,'//div[@class=\"_3Ay6Sb\"]')\n",
    "    for i in discount_tag[0:100]:\n",
    "        discount1=i.text\n",
    "        discount.append(discount1)\n",
    "    next_button=driver3.find_element(By.XPATH,'//a[@class=\"_1LKTO3\"]')\n",
    "    next_button.click()\n",
    "    time.sleep(3)"
   ]
  },
  {
   "cell_type": "code",
   "execution_count": 280,
   "id": "3029b9f2",
   "metadata": {},
   "outputs": [
    {
     "name": "stdout",
     "output_type": "stream",
     "text": [
      "152 160 160 157\n"
     ]
    }
   ],
   "source": [
    "print(len(brand_name),len(product_description),len(price),len(discount))"
   ]
  },
  {
   "cell_type": "markdown",
   "id": "d04b6b7a",
   "metadata": {},
   "source": [
    "Q.5"
   ]
  },
  {
   "cell_type": "code",
   "execution_count": 282,
   "id": "75ad6dcd",
   "metadata": {},
   "outputs": [],
   "source": [
    "import selenium\n",
    "from selenium import webdriver\n",
    "import pandas as pd\n",
    "from selenium.webdriver.common.by import By\n",
    "import warnings\n",
    "warnings.filterwarnings('ignore')\n",
    "import time"
   ]
  },
  {
   "cell_type": "code",
   "execution_count": 285,
   "id": "4a38d2a4",
   "metadata": {},
   "outputs": [],
   "source": [
    "# driver4=webdriver.Chrome()\n",
    "# driver4.get('https://www.flipkart.com/apple-iphone-11-black-64-gb')   #Link is not working showing error"
   ]
  },
  {
   "cell_type": "code",
   "execution_count": 286,
   "id": "85ecca94",
   "metadata": {},
   "outputs": [],
   "source": [
    "driver4=webdriver.Chrome()\n",
    "driver4.get('https://www.flipkart.com/apple-iphone-11-black-64-gb/product-reviews/itm4e5041ba101fd?pid=MOBFWQ6BXGJCEYNY&lid=LSTMOBFWQ6BXGJCEYNYZE3ENS&marketplace=FLIPKART')"
   ]
  },
  {
   "cell_type": "code",
   "execution_count": 287,
   "id": "dff57b0d",
   "metadata": {},
   "outputs": [],
   "source": [
    "rating=[]\n",
    "review_summary=[]\n",
    "full_review=[]"
   ]
  },
  {
   "cell_type": "code",
   "execution_count": 288,
   "id": "e74cbebc",
   "metadata": {},
   "outputs": [],
   "source": [
    "rating_tag=driver4.find_elements(By.XPATH,'//div[@class=\"_3LWZlK _1BLPMq\"]')\n",
    "for i in rating_tag[0:100]:\n",
    "    rating1=i.text\n",
    "    rating.append(rating1)\n",
    "    \n",
    "review_tag=driver4.find_elements(By.XPATH,'//p[@class=\"_2-N8zT\"]')\n",
    "for i in review_tag[0:100]:\n",
    "    reviews=i.text\n",
    "    review_summary.append(reviews)\n",
    "    \n",
    "fullreview_tag=driver4.find_elements(By.XPATH,'//div[@class=\"t-ZTKy\"]')\n",
    "for i in fullreview_tag[0:100]:\n",
    "        fullreview=i.text\n",
    "        full_review.append(fullreview)"
   ]
  },
  {
   "cell_type": "code",
   "execution_count": 290,
   "id": "6976f2f8",
   "metadata": {},
   "outputs": [],
   "source": [
    "start=0\n",
    "end=11\n",
    "next_button=driver4.find_element(By.XPATH,'//a[@class=\"_1LKTO3\"]')\n",
    "next_button.click()\n",
    "time.sleep(3)"
   ]
  },
  {
   "cell_type": "markdown",
   "id": "521eac6a",
   "metadata": {},
   "source": [
    "Q.6"
   ]
  },
  {
   "cell_type": "code",
   "execution_count": 1,
   "id": "5de71379",
   "metadata": {},
   "outputs": [],
   "source": [
    "import selenium\n",
    "from selenium import webdriver\n",
    "import pandas as pd\n",
    "from selenium.webdriver.common.by import By\n",
    "import warnings\n",
    "warnings.filterwarnings('ignore')\n",
    "import time"
   ]
  },
  {
   "cell_type": "code",
   "execution_count": 2,
   "id": "40b53f46",
   "metadata": {},
   "outputs": [],
   "source": [
    "driver5=webdriver.Chrome()\n",
    "driver5.get('https://www.flipkart.com/')"
   ]
  },
  {
   "cell_type": "code",
   "execution_count": 3,
   "id": "133ddd5f",
   "metadata": {},
   "outputs": [],
   "source": [
    "product=driver5.find_element(By.CLASS_NAME,'_3704LK')\n",
    "product.send_keys(\"sneakers\")"
   ]
  },
  {
   "cell_type": "code",
   "execution_count": 4,
   "id": "be934357",
   "metadata": {},
   "outputs": [],
   "source": [
    "search=driver5.find_element(By.CLASS_NAME,'L0Z3Pu')\n",
    "search.click()"
   ]
  },
  {
   "cell_type": "code",
   "execution_count": 5,
   "id": "52376950",
   "metadata": {},
   "outputs": [],
   "source": [
    "brand_name=[]\n",
    "product_description=[]\n",
    "price=[]"
   ]
  },
  {
   "cell_type": "code",
   "execution_count": 17,
   "id": "90449048",
   "metadata": {},
   "outputs": [],
   "source": [
    "start=0\n",
    "end=2\n",
    "for page in range(start,end):\n",
    "    brand_tag=driver5.find_elements(By.XPATH,'//div[@class=\"_2WkVRV\"]')\n",
    "    for i in brand_tag[0:100]:\n",
    "        brand=i.text\n",
    "        brand_name.append(brand)\n",
    "        \n",
    "    product_tag=driver5.find_elements(By.XPATH,'//a[@class=\"IRpwTa\"]')\n",
    "    for i in product_tag[0:100]:\n",
    "        product=i.text\n",
    "        product_description.append(product)\n",
    "        \n",
    "    price_tag=driver5.find_elements(By.XPATH,'//div[@class=\"_25b18c\"]')\n",
    "    for i in price_tag[0:100]:\n",
    "        price1=i.text\n",
    "        price.append(price1)\n",
    "        \n",
    "    nxt_button=driver5.find_element(By.XPATH,'//a[@class=\"_1LKTO3\"]')\n",
    "    nxt_button.click()\n",
    "    time.sleep(3)"
   ]
  },
  {
   "cell_type": "code",
   "execution_count": 18,
   "id": "d6dfe8d4",
   "metadata": {},
   "outputs": [],
   "source": [
    "page3=driver5.find_element(By.XPATH,'/html/body/div[1]/div/div[3]/div[1]/div[2]/div[12]/div/div/nav/a[3]')\n",
    "page3.click()\n",
    "time.sleep(3)"
   ]
  },
  {
   "cell_type": "markdown",
   "id": "47db5071",
   "metadata": {},
   "source": [
    "Q.7"
   ]
  },
  {
   "cell_type": "code",
   "execution_count": 28,
   "id": "6165c22a",
   "metadata": {},
   "outputs": [],
   "source": [
    "import selenium\n",
    "from selenium import webdriver\n",
    "import pandas as pd\n",
    "from selenium.webdriver.common.by import By\n",
    "import warnings\n",
    "warnings.filterwarnings('ignore')\n",
    "import time"
   ]
  },
  {
   "cell_type": "code",
   "execution_count": 29,
   "id": "fff26f48",
   "metadata": {},
   "outputs": [],
   "source": [
    "driver6=webdriver.Chrome()\n",
    "driver6.get(' https://www.amazon.in/')\n"
   ]
  },
  {
   "cell_type": "code",
   "execution_count": 55,
   "id": "601089aa",
   "metadata": {},
   "outputs": [],
   "source": [
    "search_box=driver6.find_element(By.ID,\"twotabsearchtextbox\")\n",
    "search_box.send_keys('laptop')"
   ]
  },
  {
   "cell_type": "code",
   "execution_count": 57,
   "id": "d8525de6",
   "metadata": {},
   "outputs": [],
   "source": [
    "search=driver6.find_element(By.ID,'nav-search-submit-button')\n",
    "search.click()"
   ]
  },
  {
   "cell_type": "code",
   "execution_count": 60,
   "id": "44b25251",
   "metadata": {},
   "outputs": [],
   "source": [
    "laptop_core=driver6.find_element(By.XPATH,'//span[@class=\"a-size-base a-color-base\"]')\n",
    "laptop_core.click()"
   ]
  },
  {
   "cell_type": "markdown",
   "id": "7ae5e563",
   "metadata": {},
   "source": [
    "Q.8"
   ]
  },
  {
   "cell_type": "markdown",
   "id": "5ec9cecc",
   "metadata": {},
   "source": [
    "import selenium\n",
    "from selenium import webdriver\n",
    "import pandas as pd\n",
    "from selenium.webdriver.common.by import By\n",
    "import warnings\n",
    "warnings.filterwarnings('ignore')\n",
    "import time"
   ]
  },
  {
   "cell_type": "code",
   "execution_count": 62,
   "id": "22b24f35",
   "metadata": {},
   "outputs": [],
   "source": [
    "driver7=webdriver.Chrome()\n",
    "driver7.get('https://www.azquotes.com/')"
   ]
  },
  {
   "cell_type": "code",
   "execution_count": 64,
   "id": "6c434865",
   "metadata": {},
   "outputs": [],
   "source": [
    "url=driver7.find_element(By.XPATH,'/html/body/div[1]/div[1]/div[1]/div/div[3]/ul/li[5]/a')\n",
    "url.click()"
   ]
  },
  {
   "cell_type": "code",
   "execution_count": 65,
   "id": "2806dc71",
   "metadata": {},
   "outputs": [],
   "source": [
    "quotes=[]\n",
    "authors=[]\n",
    "top_qoutes=[]"
   ]
  },
  {
   "cell_type": "code",
   "execution_count": null,
   "id": "2ff3b5b7",
   "metadata": {},
   "outputs": [],
   "source": []
  },
  {
   "cell_type": "code",
   "execution_count": null,
   "id": "6b429db7",
   "metadata": {},
   "outputs": [],
   "source": []
  },
  {
   "cell_type": "code",
   "execution_count": null,
   "id": "7cf30756",
   "metadata": {},
   "outputs": [],
   "source": []
  },
  {
   "cell_type": "code",
   "execution_count": null,
   "id": "e0b8565f",
   "metadata": {},
   "outputs": [],
   "source": []
  },
  {
   "cell_type": "markdown",
   "id": "1dae551c",
   "metadata": {},
   "source": [
    "Q.9"
   ]
  },
  {
   "cell_type": "code",
   "execution_count": 66,
   "id": "4101f9b5",
   "metadata": {},
   "outputs": [],
   "source": [
    "import selenium\n",
    "from selenium import webdriver\n",
    "import pandas as pd\n",
    "from selenium.webdriver.common.by import By\n",
    "import warnings\n",
    "warnings.filterwarnings('ignore')\n",
    "import time"
   ]
  },
  {
   "cell_type": "code",
   "execution_count": 68,
   "id": "0224d487",
   "metadata": {},
   "outputs": [],
   "source": [
    "driver8=webdriver.Chrome()\n",
    "driver8.get('https://www.jagranjosh.com/')"
   ]
  },
  {
   "cell_type": "code",
   "execution_count": 69,
   "id": "16ade793",
   "metadata": {},
   "outputs": [],
   "source": [
    "option=driver8.find_element(By.XPATH,'/html/body/div[1]/div[1]/div/div[1]/div/div[5]/div/div[1]/header/div[3]/ul/li[3]/a')\n",
    "option.click()"
   ]
  },
  {
   "cell_type": "code",
   "execution_count": 70,
   "id": "0965ad0a",
   "metadata": {},
   "outputs": [],
   "source": [
    "in_option=driver8.find_element(By.XPATH,'/html/body/div[1]/div/div/div[2]/div/div[10]/div/div/ul/li[2]/a')\n",
    "in_option.click()"
   ]
  },
  {
   "cell_type": "code",
   "execution_count": 72,
   "id": "8432a2b0",
   "metadata": {},
   "outputs": [],
   "source": [
    "primeminister_name=[]\n",
    "born_dead=[]\n",
    "termof_office=[]\n",
    "remark=[]"
   ]
  },
  {
   "cell_type": "markdown",
   "id": "773185b8",
   "metadata": {},
   "source": [
    "Please provide soluntions of these"
   ]
  },
  {
   "cell_type": "markdown",
   "id": "27ed83a4",
   "metadata": {},
   "source": []
  }
 ],
 "metadata": {
  "kernelspec": {
   "display_name": "Python 3 (ipykernel)",
   "language": "python",
   "name": "python3"
  },
  "language_info": {
   "codemirror_mode": {
    "name": "ipython",
    "version": 3
   },
   "file_extension": ".py",
   "mimetype": "text/x-python",
   "name": "python",
   "nbconvert_exporter": "python",
   "pygments_lexer": "ipython3",
   "version": "3.10.9"
  }
 },
 "nbformat": 4,
 "nbformat_minor": 5
}
